{
 "cells": [
  {
   "cell_type": "code",
   "execution_count": null,
   "metadata": {},
   "outputs": [],
   "source": [
    "# The aim of this code is to compare an equally weighted portfolio and optimize the weights to obtain \n",
    "# the best allocation of the portfolio maximizing returns for the minimum volatility. "
   ]
  },
  {
   "cell_type": "code",
   "execution_count": 1,
   "metadata": {},
   "outputs": [],
   "source": [
    "import pandas as pd\n",
    "pd.core.common.is_list_like = pd.api.types.is_list_like\n",
    "import matplotlib.pyplot as plt\n",
    "import numpy as np\n",
    "import yfinance as yf\n"
   ]
  },
  {
   "cell_type": "code",
   "execution_count": 2,
   "metadata": {},
   "outputs": [],
   "source": [
    "assets = ['EEM', 'SPY', 'GLD', 'OIL']"
   ]
  },
  {
   "cell_type": "code",
   "execution_count": 3,
   "metadata": {},
   "outputs": [],
   "source": [
    "start_date = \"2015-01-01\"\n",
    "end_date = \"2020-01-10\""
   ]
  },
  {
   "cell_type": "code",
   "execution_count": 4,
   "metadata": {},
   "outputs": [
    {
     "name": "stdout",
     "output_type": "stream",
     "text": [
      "[*********************100%***********************]  4 of 4 completed\n"
     ]
    }
   ],
   "source": [
    "df1= yf.download(assets, start=start_date, end = end_date)['Adj Close']"
   ]
  },
  {
   "cell_type": "code",
   "execution_count": 5,
   "metadata": {},
   "outputs": [
    {
     "name": "stdout",
     "output_type": "stream",
     "text": [
      "[*********************100%***********************]  1 of 1 completed\n",
      "[*********************100%***********************]  1 of 1 completed\n",
      "[*********************100%***********************]  1 of 1 completed\n",
      "[*********************100%***********************]  1 of 1 completed\n"
     ]
    },
    {
     "data": {
      "text/html": [
       "<div>\n",
       "<style scoped>\n",
       "    .dataframe tbody tr th:only-of-type {\n",
       "        vertical-align: middle;\n",
       "    }\n",
       "\n",
       "    .dataframe tbody tr th {\n",
       "        vertical-align: top;\n",
       "    }\n",
       "\n",
       "    .dataframe thead th {\n",
       "        text-align: right;\n",
       "    }\n",
       "</style>\n",
       "<table border=\"1\" class=\"dataframe\">\n",
       "  <thead>\n",
       "    <tr style=\"text-align: right;\">\n",
       "      <th></th>\n",
       "      <th>OIL</th>\n",
       "      <th>GLD</th>\n",
       "      <th>SPY</th>\n",
       "      <th>EEM</th>\n",
       "    </tr>\n",
       "    <tr>\n",
       "      <th>Date</th>\n",
       "      <th></th>\n",
       "      <th></th>\n",
       "      <th></th>\n",
       "      <th></th>\n",
       "    </tr>\n",
       "  </thead>\n",
       "  <tbody>\n",
       "    <tr>\n",
       "      <th>2014-12-31</th>\n",
       "      <td>12.54</td>\n",
       "      <td>113.580002</td>\n",
       "      <td>186.259033</td>\n",
       "      <td>35.130856</td>\n",
       "    </tr>\n",
       "    <tr>\n",
       "      <th>2015-01-02</th>\n",
       "      <td>12.21</td>\n",
       "      <td>114.080002</td>\n",
       "      <td>186.159332</td>\n",
       "      <td>34.665909</td>\n",
       "    </tr>\n",
       "    <tr>\n",
       "      <th>2015-01-05</th>\n",
       "      <td>11.47</td>\n",
       "      <td>115.800003</td>\n",
       "      <td>182.797379</td>\n",
       "      <td>34.048954</td>\n",
       "    </tr>\n",
       "    <tr>\n",
       "      <th>2015-01-06</th>\n",
       "      <td>10.98</td>\n",
       "      <td>117.120003</td>\n",
       "      <td>181.075607</td>\n",
       "      <td>33.905880</td>\n",
       "    </tr>\n",
       "    <tr>\n",
       "      <th>2015-01-07</th>\n",
       "      <td>11.19</td>\n",
       "      <td>116.430000</td>\n",
       "      <td>183.332016</td>\n",
       "      <td>34.639084</td>\n",
       "    </tr>\n",
       "  </tbody>\n",
       "</table>\n",
       "</div>"
      ],
      "text/plain": [
       "              OIL         GLD         SPY        EEM\n",
       "Date                                                \n",
       "2014-12-31  12.54  113.580002  186.259033  35.130856\n",
       "2015-01-02  12.21  114.080002  186.159332  34.665909\n",
       "2015-01-05  11.47  115.800003  182.797379  34.048954\n",
       "2015-01-06  10.98  117.120003  181.075607  33.905880\n",
       "2015-01-07  11.19  116.430000  183.332016  34.639084"
      ]
     },
     "execution_count": 5,
     "metadata": {},
     "output_type": "execute_result"
    }
   ],
   "source": [
    "df=pd.DataFrame()\n",
    "for asset in assets:\n",
    "    df_asset = yf.download(asset, start=start_date, end=end_date)[\"Adj Close\"]\n",
    "    df_asset = df_asset.to_frame(name=asset)\n",
    "    df = pd.concat([df_asset, df], axis=1, sort=False)\n",
    "df = df.dropna()\n",
    "df.head(5)"
   ]
  },
  {
   "cell_type": "code",
   "execution_count": 130,
   "metadata": {},
   "outputs": [
    {
     "data": {
      "text/html": [
       "<div>\n",
       "<style scoped>\n",
       "    .dataframe tbody tr th:only-of-type {\n",
       "        vertical-align: middle;\n",
       "    }\n",
       "\n",
       "    .dataframe tbody tr th {\n",
       "        vertical-align: top;\n",
       "    }\n",
       "\n",
       "    .dataframe thead th {\n",
       "        text-align: right;\n",
       "    }\n",
       "</style>\n",
       "<table border=\"1\" class=\"dataframe\">\n",
       "  <thead>\n",
       "    <tr style=\"text-align: right;\">\n",
       "      <th></th>\n",
       "      <th>OIL</th>\n",
       "      <th>GLD</th>\n",
       "      <th>SPY</th>\n",
       "      <th>EEM</th>\n",
       "    </tr>\n",
       "    <tr>\n",
       "      <th>Date</th>\n",
       "      <th></th>\n",
       "      <th></th>\n",
       "      <th></th>\n",
       "      <th></th>\n",
       "    </tr>\n",
       "  </thead>\n",
       "  <tbody>\n",
       "    <tr>\n",
       "      <th>2020-01-03</th>\n",
       "      <td>12.95</td>\n",
       "      <td>145.860001</td>\n",
       "      <td>322.410004</td>\n",
       "      <td>44.930000</td>\n",
       "    </tr>\n",
       "    <tr>\n",
       "      <th>2020-01-06</th>\n",
       "      <td>12.93</td>\n",
       "      <td>147.389999</td>\n",
       "      <td>323.640015</td>\n",
       "      <td>44.820000</td>\n",
       "    </tr>\n",
       "    <tr>\n",
       "      <th>2020-01-07</th>\n",
       "      <td>12.89</td>\n",
       "      <td>147.970001</td>\n",
       "      <td>322.730011</td>\n",
       "      <td>44.790001</td>\n",
       "    </tr>\n",
       "    <tr>\n",
       "      <th>2020-01-08</th>\n",
       "      <td>12.43</td>\n",
       "      <td>146.860001</td>\n",
       "      <td>324.450012</td>\n",
       "      <td>45.049999</td>\n",
       "    </tr>\n",
       "    <tr>\n",
       "      <th>2020-01-09</th>\n",
       "      <td>12.27</td>\n",
       "      <td>146.029999</td>\n",
       "      <td>326.649994</td>\n",
       "      <td>45.349998</td>\n",
       "    </tr>\n",
       "  </tbody>\n",
       "</table>\n",
       "</div>"
      ],
      "text/plain": [
       "              OIL         GLD         SPY        EEM\n",
       "Date                                                \n",
       "2020-01-03  12.95  145.860001  322.410004  44.930000\n",
       "2020-01-06  12.93  147.389999  323.640015  44.820000\n",
       "2020-01-07  12.89  147.970001  322.730011  44.790001\n",
       "2020-01-08  12.43  146.860001  324.450012  45.049999\n",
       "2020-01-09  12.27  146.029999  326.649994  45.349998"
      ]
     },
     "execution_count": 130,
     "metadata": {},
     "output_type": "execute_result"
    }
   ],
   "source": [
    "df.tail()"
   ]
  },
  {
   "cell_type": "code",
   "execution_count": 131,
   "metadata": {},
   "outputs": [
    {
     "data": {
      "text/html": [
       "<div>\n",
       "<style scoped>\n",
       "    .dataframe tbody tr th:only-of-type {\n",
       "        vertical-align: middle;\n",
       "    }\n",
       "\n",
       "    .dataframe tbody tr th {\n",
       "        vertical-align: top;\n",
       "    }\n",
       "\n",
       "    .dataframe thead th {\n",
       "        text-align: right;\n",
       "    }\n",
       "</style>\n",
       "<table border=\"1\" class=\"dataframe\">\n",
       "  <thead>\n",
       "    <tr style=\"text-align: right;\">\n",
       "      <th></th>\n",
       "      <th>EEM</th>\n",
       "      <th>GLD</th>\n",
       "      <th>OIL</th>\n",
       "      <th>SPY</th>\n",
       "    </tr>\n",
       "    <tr>\n",
       "      <th>Date</th>\n",
       "      <th></th>\n",
       "      <th></th>\n",
       "      <th></th>\n",
       "      <th></th>\n",
       "    </tr>\n",
       "  </thead>\n",
       "  <tbody>\n",
       "    <tr>\n",
       "      <th>2014-12-31</th>\n",
       "      <td>35.130856</td>\n",
       "      <td>113.580002</td>\n",
       "      <td>12.54</td>\n",
       "      <td>186.259033</td>\n",
       "    </tr>\n",
       "    <tr>\n",
       "      <th>2015-01-02</th>\n",
       "      <td>34.665909</td>\n",
       "      <td>114.080002</td>\n",
       "      <td>12.21</td>\n",
       "      <td>186.159332</td>\n",
       "    </tr>\n",
       "    <tr>\n",
       "      <th>2015-01-05</th>\n",
       "      <td>34.048954</td>\n",
       "      <td>115.800003</td>\n",
       "      <td>11.47</td>\n",
       "      <td>182.797379</td>\n",
       "    </tr>\n",
       "    <tr>\n",
       "      <th>2015-01-06</th>\n",
       "      <td>33.905880</td>\n",
       "      <td>117.120003</td>\n",
       "      <td>10.98</td>\n",
       "      <td>181.075607</td>\n",
       "    </tr>\n",
       "    <tr>\n",
       "      <th>2015-01-07</th>\n",
       "      <td>34.639084</td>\n",
       "      <td>116.430000</td>\n",
       "      <td>11.19</td>\n",
       "      <td>183.332016</td>\n",
       "    </tr>\n",
       "  </tbody>\n",
       "</table>\n",
       "</div>"
      ],
      "text/plain": [
       "                  EEM         GLD    OIL         SPY\n",
       "Date                                                \n",
       "2014-12-31  35.130856  113.580002  12.54  186.259033\n",
       "2015-01-02  34.665909  114.080002  12.21  186.159332\n",
       "2015-01-05  34.048954  115.800003  11.47  182.797379\n",
       "2015-01-06  33.905880  117.120003  10.98  181.075607\n",
       "2015-01-07  34.639084  116.430000  11.19  183.332016"
      ]
     },
     "execution_count": 131,
     "metadata": {},
     "output_type": "execute_result"
    }
   ],
   "source": [
    "df1.head()"
   ]
  },
  {
   "cell_type": "code",
   "execution_count": 132,
   "metadata": {},
   "outputs": [
    {
     "data": {
      "text/plain": [
       "OIL       7.187416\n",
       "GLD      82.992463\n",
       "SPY    1660.098920\n",
       "EEM      26.049828\n",
       "dtype: float64"
      ]
     },
     "execution_count": 132,
     "metadata": {},
     "output_type": "execute_result"
    }
   ],
   "source": [
    "df.var()"
   ]
  },
  {
   "cell_type": "code",
   "execution_count": 133,
   "metadata": {},
   "outputs": [
    {
     "data": {
      "text/plain": [
       "OIL     2.680936\n",
       "GLD     9.110020\n",
       "SPY    40.744312\n",
       "EEM     5.103903\n",
       "dtype: float64"
      ]
     },
     "execution_count": 133,
     "metadata": {},
     "output_type": "execute_result"
    }
   ],
   "source": [
    "df.std() # Standard deviation before percentatge changes, why it changes? "
   ]
  },
  {
   "cell_type": "code",
   "execution_count": 134,
   "metadata": {},
   "outputs": [
    {
     "name": "stdout",
     "output_type": "stream",
     "text": [
      "<class 'pandas.core.frame.DataFrame'>\n",
      "DatetimeIndex: 1265 entries, 2014-12-31 to 2020-01-09\n",
      "Data columns (total 4 columns):\n",
      "OIL    1265 non-null float64\n",
      "GLD    1265 non-null float64\n",
      "SPY    1265 non-null float64\n",
      "EEM    1265 non-null float64\n",
      "dtypes: float64(4)\n",
      "memory usage: 49.4 KB\n"
     ]
    }
   ],
   "source": [
    "df.info()"
   ]
  },
  {
   "cell_type": "code",
   "execution_count": 135,
   "metadata": {},
   "outputs": [
    {
     "data": {
      "text/html": [
       "<div>\n",
       "<style scoped>\n",
       "    .dataframe tbody tr th:only-of-type {\n",
       "        vertical-align: middle;\n",
       "    }\n",
       "\n",
       "    .dataframe tbody tr th {\n",
       "        vertical-align: top;\n",
       "    }\n",
       "\n",
       "    .dataframe thead th {\n",
       "        text-align: right;\n",
       "    }\n",
       "</style>\n",
       "<table border=\"1\" class=\"dataframe\">\n",
       "  <thead>\n",
       "    <tr style=\"text-align: right;\">\n",
       "      <th></th>\n",
       "      <th>EEM</th>\n",
       "      <th>GLD</th>\n",
       "      <th>OIL</th>\n",
       "      <th>SPY</th>\n",
       "    </tr>\n",
       "    <tr>\n",
       "      <th>Date</th>\n",
       "      <th></th>\n",
       "      <th></th>\n",
       "      <th></th>\n",
       "      <th></th>\n",
       "    </tr>\n",
       "  </thead>\n",
       "  <tbody>\n",
       "    <tr>\n",
       "      <th>2014-12-31</th>\n",
       "      <td>100.000000</td>\n",
       "      <td>100.000000</td>\n",
       "      <td>100.000000</td>\n",
       "      <td>100.000000</td>\n",
       "    </tr>\n",
       "    <tr>\n",
       "      <th>2015-01-02</th>\n",
       "      <td>98.676529</td>\n",
       "      <td>100.440218</td>\n",
       "      <td>97.368422</td>\n",
       "      <td>99.946472</td>\n",
       "    </tr>\n",
       "    <tr>\n",
       "      <th>2015-01-05</th>\n",
       "      <td>96.920367</td>\n",
       "      <td>101.954571</td>\n",
       "      <td>91.467307</td>\n",
       "      <td>98.141484</td>\n",
       "    </tr>\n",
       "    <tr>\n",
       "      <th>2015-01-06</th>\n",
       "      <td>96.513106</td>\n",
       "      <td>103.116747</td>\n",
       "      <td>87.559805</td>\n",
       "      <td>97.217088</td>\n",
       "    </tr>\n",
       "    <tr>\n",
       "      <th>2015-01-07</th>\n",
       "      <td>98.600172</td>\n",
       "      <td>102.509243</td>\n",
       "      <td>89.234447</td>\n",
       "      <td>98.428523</td>\n",
       "    </tr>\n",
       "    <tr>\n",
       "      <th>...</th>\n",
       "      <td>...</td>\n",
       "      <td>...</td>\n",
       "      <td>...</td>\n",
       "      <td>...</td>\n",
       "    </tr>\n",
       "    <tr>\n",
       "      <th>2020-01-03</th>\n",
       "      <td>127.893271</td>\n",
       "      <td>128.420495</td>\n",
       "      <td>103.269536</td>\n",
       "      <td>173.097647</td>\n",
       "    </tr>\n",
       "    <tr>\n",
       "      <th>2020-01-06</th>\n",
       "      <td>127.580154</td>\n",
       "      <td>129.767562</td>\n",
       "      <td>103.110051</td>\n",
       "      <td>173.758023</td>\n",
       "    </tr>\n",
       "    <tr>\n",
       "      <th>2020-01-07</th>\n",
       "      <td>127.494763</td>\n",
       "      <td>130.278217</td>\n",
       "      <td>102.791072</td>\n",
       "      <td>173.269455</td>\n",
       "    </tr>\n",
       "    <tr>\n",
       "      <th>2020-01-08</th>\n",
       "      <td>128.234848</td>\n",
       "      <td>129.300932</td>\n",
       "      <td>99.122810</td>\n",
       "      <td>174.192900</td>\n",
       "    </tr>\n",
       "    <tr>\n",
       "      <th>2020-01-09</th>\n",
       "      <td>129.088796</td>\n",
       "      <td>128.570168</td>\n",
       "      <td>97.846894</td>\n",
       "      <td>175.374041</td>\n",
       "    </tr>\n",
       "  </tbody>\n",
       "</table>\n",
       "<p>1265 rows × 4 columns</p>\n",
       "</div>"
      ],
      "text/plain": [
       "                   EEM         GLD         OIL         SPY\n",
       "Date                                                      \n",
       "2014-12-31  100.000000  100.000000  100.000000  100.000000\n",
       "2015-01-02   98.676529  100.440218   97.368422   99.946472\n",
       "2015-01-05   96.920367  101.954571   91.467307   98.141484\n",
       "2015-01-06   96.513106  103.116747   87.559805   97.217088\n",
       "2015-01-07   98.600172  102.509243   89.234447   98.428523\n",
       "...                ...         ...         ...         ...\n",
       "2020-01-03  127.893271  128.420495  103.269536  173.097647\n",
       "2020-01-06  127.580154  129.767562  103.110051  173.758023\n",
       "2020-01-07  127.494763  130.278217  102.791072  173.269455\n",
       "2020-01-08  128.234848  129.300932   99.122810  174.192900\n",
       "2020-01-09  129.088796  128.570168   97.846894  175.374041\n",
       "\n",
       "[1265 rows x 4 columns]"
      ]
     },
     "execution_count": 135,
     "metadata": {},
     "output_type": "execute_result"
    }
   ],
   "source": [
    "normalized_df1 = df1.div(df1.iloc[0]).mul(100) #here I normalize the prices to compare performance graphically\n",
    "normalized_df1"
   ]
  },
  {
   "cell_type": "code",
   "execution_count": 136,
   "metadata": {},
   "outputs": [
    {
     "data": {
      "text/plain": [
       "EEM    14.528263\n",
       "GLD     8.020796\n",
       "OIL    21.379073\n",
       "SPY    21.875079\n",
       "dtype: float64"
      ]
     },
     "execution_count": 136,
     "metadata": {},
     "output_type": "execute_result"
    }
   ],
   "source": [
    "normalized_df1.std() # Why is different with the prices volatility?"
   ]
  },
  {
   "cell_type": "code",
   "execution_count": 137,
   "metadata": {},
   "outputs": [
    {
     "data": {
      "image/png": "[encoded data removed]",
      "text/plain": [
       "<Figure size 1080x576 with 1 Axes>"
      ]
     },
     "metadata": {},
     "output_type": "display_data"
    }
   ],
   "source": [
    "# Here I inspect & compare graphically the ETF's evolution\n",
    "plt.style.use('seaborn')\n",
    "normalized_df1.plot(figsize = (15, 8 ), fontsize = 13)\n",
    "plt.legend(fontsize = 13)\n",
    "plt.show()"
   ]
  },
  {
   "cell_type": "code",
   "execution_count": 6,
   "metadata": {},
   "outputs": [],
   "source": [
    "df = df.pct_change().dropna() \n",
    "#Creamos matriz de pesos para cada activo (\"Equally weighted\")\n",
    "weights = []   #empty list\n",
    "n_assets = len(assets) \n",
    "\n",
    "#Equally weighted portfolio\n",
    "for i in range(n_assets):\n",
    "    weights.append(1/n_assets)\n",
    "\n",
    "w = np.array(weights)"
   ]
  },
  {
   "cell_type": "code",
   "execution_count": 139,
   "metadata": {},
   "outputs": [
    {
     "data": {
      "text/plain": [
       "array([0.25, 0.25, 0.25, 0.25])"
      ]
     },
     "execution_count": 139,
     "metadata": {},
     "output_type": "execute_result"
    }
   ],
   "source": [
    "w"
   ]
  },
  {
   "cell_type": "code",
   "execution_count": 140,
   "metadata": {},
   "outputs": [
    {
     "data": {
      "text/html": [
       "<div>\n",
       "<style scoped>\n",
       "    .dataframe tbody tr th:only-of-type {\n",
       "        vertical-align: middle;\n",
       "    }\n",
       "\n",
       "    .dataframe tbody tr th {\n",
       "        vertical-align: top;\n",
       "    }\n",
       "\n",
       "    .dataframe thead th {\n",
       "        text-align: right;\n",
       "    }\n",
       "</style>\n",
       "<table border=\"1\" class=\"dataframe\">\n",
       "  <thead>\n",
       "    <tr style=\"text-align: right;\">\n",
       "      <th></th>\n",
       "      <th>OIL</th>\n",
       "      <th>GLD</th>\n",
       "      <th>SPY</th>\n",
       "      <th>EEM</th>\n",
       "    </tr>\n",
       "    <tr>\n",
       "      <th>Date</th>\n",
       "      <th></th>\n",
       "      <th></th>\n",
       "      <th></th>\n",
       "      <th></th>\n",
       "    </tr>\n",
       "  </thead>\n",
       "  <tbody>\n",
       "    <tr>\n",
       "      <th>2015-01-02</th>\n",
       "      <td>-0.026316</td>\n",
       "      <td>0.004402</td>\n",
       "      <td>-0.000535</td>\n",
       "      <td>-0.013235</td>\n",
       "    </tr>\n",
       "    <tr>\n",
       "      <th>2015-01-05</th>\n",
       "      <td>-0.060606</td>\n",
       "      <td>0.015077</td>\n",
       "      <td>-0.018060</td>\n",
       "      <td>-0.017797</td>\n",
       "    </tr>\n",
       "    <tr>\n",
       "      <th>2015-01-06</th>\n",
       "      <td>-0.042720</td>\n",
       "      <td>0.011399</td>\n",
       "      <td>-0.009419</td>\n",
       "      <td>-0.004202</td>\n",
       "    </tr>\n",
       "    <tr>\n",
       "      <th>2015-01-07</th>\n",
       "      <td>0.019126</td>\n",
       "      <td>-0.005891</td>\n",
       "      <td>0.012461</td>\n",
       "      <td>0.021625</td>\n",
       "    </tr>\n",
       "    <tr>\n",
       "      <th>2015-01-08</th>\n",
       "      <td>0.010724</td>\n",
       "      <td>-0.004209</td>\n",
       "      <td>0.017745</td>\n",
       "      <td>0.017037</td>\n",
       "    </tr>\n",
       "  </tbody>\n",
       "</table>\n",
       "</div>"
      ],
      "text/plain": [
       "                 OIL       GLD       SPY       EEM\n",
       "Date                                              \n",
       "2015-01-02 -0.026316  0.004402 -0.000535 -0.013235\n",
       "2015-01-05 -0.060606  0.015077 -0.018060 -0.017797\n",
       "2015-01-06 -0.042720  0.011399 -0.009419 -0.004202\n",
       "2015-01-07  0.019126 -0.005891  0.012461  0.021625\n",
       "2015-01-08  0.010724 -0.004209  0.017745  0.017037"
      ]
     },
     "execution_count": 140,
     "metadata": {},
     "output_type": "execute_result"
    }
   ],
   "source": [
    "df.head()"
   ]
  },
  {
   "cell_type": "code",
   "execution_count": 8,
   "metadata": {},
   "outputs": [
    {
     "name": "stdout",
     "output_type": "stream",
     "text": [
      "Rendimiento esperado: [0.00043682 0.00023011 0.00048043 0.00027218]\n",
      "Pesos activos: [0.25 0.25 0.25 0.25]\n",
      "Matriz VarCov: [[ 1.11823090e-03  4.20444467e-06  6.67963582e-05  1.00433363e-04]\n",
      " [ 4.20444467e-06  6.26704584e-05 -1.13790689e-05  1.20097847e-06]\n",
      " [ 6.67963582e-05 -1.13790689e-05  7.16951357e-05  7.62505339e-05]\n",
      " [ 1.00433363e-04  1.20097847e-06  7.62505339e-05  1.40125478e-04]]\n"
     ]
    }
   ],
   "source": [
    "r = np.array(np.mean(df))   \n",
    "C = np.cov(df.transpose()) #Estimate a covariance matrix, given data and weights.\n",
    "\n",
    "#Validamos\n",
    "print(\"Rendimiento esperado:\", r)\n",
    "print(\"Pesos activos:\", w)\n",
    "print(\"Matriz VarCov:\", C)"
   ]
  },
  {
   "cell_type": "code",
   "execution_count": 142,
   "metadata": {},
   "outputs": [
    {
     "data": {
      "text/html": [
       "<div>\n",
       "<style scoped>\n",
       "    .dataframe tbody tr th:only-of-type {\n",
       "        vertical-align: middle;\n",
       "    }\n",
       "\n",
       "    .dataframe tbody tr th {\n",
       "        vertical-align: top;\n",
       "    }\n",
       "\n",
       "    .dataframe thead th {\n",
       "        text-align: right;\n",
       "    }\n",
       "</style>\n",
       "<table border=\"1\" class=\"dataframe\">\n",
       "  <thead>\n",
       "    <tr style=\"text-align: right;\">\n",
       "      <th></th>\n",
       "      <th>OIL</th>\n",
       "      <th>GLD</th>\n",
       "      <th>SPY</th>\n",
       "      <th>EEM</th>\n",
       "    </tr>\n",
       "  </thead>\n",
       "  <tbody>\n",
       "    <tr>\n",
       "      <th>OIL</th>\n",
       "      <td>1.000000</td>\n",
       "      <td>0.015882</td>\n",
       "      <td>0.236765</td>\n",
       "      <td>0.253719</td>\n",
       "    </tr>\n",
       "    <tr>\n",
       "      <th>GLD</th>\n",
       "      <td>0.015882</td>\n",
       "      <td>1.000000</td>\n",
       "      <td>-0.168470</td>\n",
       "      <td>0.012816</td>\n",
       "    </tr>\n",
       "    <tr>\n",
       "      <th>SPY</th>\n",
       "      <td>0.236765</td>\n",
       "      <td>-0.168470</td>\n",
       "      <td>1.000000</td>\n",
       "      <td>0.763371</td>\n",
       "    </tr>\n",
       "    <tr>\n",
       "      <th>EEM</th>\n",
       "      <td>0.253719</td>\n",
       "      <td>0.012816</td>\n",
       "      <td>0.763371</td>\n",
       "      <td>1.000000</td>\n",
       "    </tr>\n",
       "  </tbody>\n",
       "</table>\n",
       "</div>"
      ],
      "text/plain": [
       "          OIL       GLD       SPY       EEM\n",
       "OIL  1.000000  0.015882  0.236765  0.253719\n",
       "GLD  0.015882  1.000000 -0.168470  0.012816\n",
       "SPY  0.236765 -0.168470  1.000000  0.763371\n",
       "EEM  0.253719  0.012816  0.763371  1.000000"
      ]
     },
     "execution_count": 142,
     "metadata": {},
     "output_type": "execute_result"
    }
   ],
   "source": [
    "df.corr()"
   ]
  },
  {
   "cell_type": "code",
   "execution_count": 143,
   "metadata": {},
   "outputs": [
    {
     "data": {
      "text/plain": [
       "OIL    0.033440\n",
       "GLD    0.007916\n",
       "SPY    0.008446\n",
       "EEM    0.011837\n",
       "dtype: float64"
      ]
     },
     "execution_count": 143,
     "metadata": {},
     "output_type": "execute_result"
    }
   ],
   "source": [
    "df.std() ### Question: Why does the voltility change respect normalized prices?????"
   ]
  },
  {
   "cell_type": "code",
   "execution_count": 9,
   "metadata": {},
   "outputs": [],
   "source": [
    "def mu(w,r):\n",
    "    '''Rendimiento portafolio anualizado'''\n",
    "    return sum(w * r * 252) \n",
    "\n",
    "\n",
    "def sigma(w, C):\n",
    "    '''Desv STD portadolio anualizada'''\n",
    "    return np.dot(w,np.dot(C,w.T)) ** (1/2) * 252 ** (1/2)\n",
    "\n",
    "\n",
    "def sharpe(w):\n",
    "    '''Sharpe ratio con rf de 4%'''\n",
    "    rf = .04\n",
    "    return (mu(w,r) - rf) / sigma(w,C)\n",
    "\n",
    "\n",
    "def neg_sharpe(w):\n",
    "    '''Sharpe ratio negativo'''\n",
    "    return -sharpe(w)\n",
    "\n",
    "\n",
    "def random_ports(n):\n",
    "    '''Portafolio aleatorios'''\n",
    "    means, stds = [],[]\n",
    "    for i in range(n):\n",
    "        rand_w = np.random.rand(len(assets))\n",
    "        rand_w = rand_w / sum(rand_w)\n",
    "        means.append(mu(rand_w, r))\n",
    "        stds.append(sigma(rand_w,C))\n",
    "    \n",
    "    return means, stds"
   ]
  },
  {
   "cell_type": "code",
   "execution_count": 10,
   "metadata": {},
   "outputs": [
    {
     "data": {
      "text/plain": [
       "[('Return = ', 0.08943054284571003),\n",
       " ('Desviation = ', 0.17151334992373554),\n",
       " ('Sharpe = ', 0.28820230534643293)]"
      ]
     },
     "execution_count": 10,
     "metadata": {},
     "output_type": "execute_result"
    }
   ],
   "source": [
    "results_equal_portfolio = [('Return = ', mu(w,r)), ('Desviation = ' ,sigma(w,C)), ('Sharpe = ', sharpe(w))]\n",
    "results_equal_portfolio"
   ]
  },
  {
   "cell_type": "code",
   "execution_count": 146,
   "metadata": {},
   "outputs": [],
   "source": [
    "# Pero lo interesante, es calcular los pesos que mejor Sharpe ratio puedan lograr con esta \n",
    "# combinación de activos, esto es un problema de optimización que en Excel se resuelve con Solver, \n",
    "# para este caso usaremos scipy. Definiendo que ninguna variable puede ser negativa con un valor \n",
    "# máximo de 1 y que la suma de las variable debe ser igual a 1, así:"
   ]
  },
  {
   "cell_type": "code",
   "execution_count": 11,
   "metadata": {},
   "outputs": [],
   "source": [
    "import scipy.optimize as optimize"
   ]
  },
  {
   "cell_type": "code",
   "execution_count": 12,
   "metadata": {},
   "outputs": [
    {
     "name": "stdout",
     "output_type": "stream",
     "text": [
      "Optimization terminated successfully.    (Exit mode 0)\n",
      "            Current function value: -0.6525457615036487\n",
      "            Iterations: 7\n",
      "            Function evaluations: 42\n",
      "            Gradient evaluations: 7\n",
      "     fun: -0.6525457615036487\n",
      "     jac: array([-0.28233003, -0.4183838 , -0.41748131,  0.25468504])\n",
      " message: 'Optimization terminated successfully.'\n",
      "    nfev: 42\n",
      "     nit: 7\n",
      "    njev: 7\n",
      "  status: 0\n",
      " success: True\n",
      "       x: array([1.78676516e-16, 2.94626776e-01, 7.05373224e-01, 2.58443498e-16])\n"
     ]
    }
   ],
   "source": [
    "def apply_sum_constraint(inputs):\n",
    "    total = 1 - np.sum(inputs)\n",
    "    return total\n",
    "\n",
    "my_constraints = ({'type': 'eq', \"fun\": apply_sum_constraint })\n",
    "bounds = ((0,1.0),)*n_assets\n",
    "\n",
    "\n",
    "result = optimize.minimize(neg_sharpe, \n",
    "                      w, \n",
    "                      method='SLSQP', #difeferent methods avaiable\n",
    "                      bounds= bounds,#((0, 1.0), (0, 1.0), (0, 1.0),(0,1.0)), #define the min and max weight for each asset\n",
    "                      options={'disp': True},\n",
    "                      constraints=my_constraints)\n",
    "print(result)\n",
    "optimal_w = result[\"x\"]"
   ]
  },
  {
   "cell_type": "code",
   "execution_count": 13,
   "metadata": {},
   "outputs": [
    {
     "data": {
      "text/plain": [
       "Text(0.5, 1.0, 'Mean and standard deviation of returns of randomly generated portfolios')"
      ]
     },
     "execution_count": 13,
     "metadata": {},
     "output_type": "execute_result"
    },
    {
     "data": {
      "image/png": "[encoded data removed]",
      "text/plain": [
       "<Figure size 432x288 with 1 Axes>"
      ]
     },
     "metadata": {
      "needs_background": "light"
     },
     "output_type": "display_data"
    }
   ],
   "source": [
    "#Grafiquemos\n",
    "n_portfolios = 10000\n",
    "means, stds = random_ports(n_portfolios)\n",
    "\n",
    "best_mu = mu(optimal_w, r)\n",
    "best_sigma = sigma(optimal_w, C)\n",
    "best_sharpe = sharpe(optimal_w)\n",
    "plt.plot(stds, means, 'o',color='g', markersize=1)\n",
    "plt.plot(best_sigma, best_mu, 'o', color='red' , markersize=10)\n",
    "plt.xlabel('std')\n",
    "plt.ylabel('mean')\n",
    "plt.title('Mean and standard deviation of returns of randomly generated portfolios')\n"
   ]
  },
  {
   "cell_type": "code",
   "execution_count": 14,
   "metadata": {},
   "outputs": [
    {
     "data": {
      "text/plain": [
       "[('Return = ', 0.10248235647519484),\n",
       " ('Desviation = ', 0.09575168541623492),\n",
       " ('Sharpe = ', 0.6525457615036487)]"
      ]
     },
     "execution_count": 14,
     "metadata": {},
     "output_type": "execute_result"
    }
   ],
   "source": [
    "results_best_portfolio = [('Return = ', mu(optimal_w,r)), ('Desviation = ' ,sigma(optimal_w,C)), ('Sharpe = ', sharpe(optimal_w))]\n",
    "results_best_portfolio"
   ]
  },
  {
   "cell_type": "code",
   "execution_count": 151,
   "metadata": {},
   "outputs": [],
   "source": [
    "#A good way to estimate future returns is to fit an ARMA model \n",
    "# conditional mean return are time varying while unconditional are the average statit return\n",
    "# at the same time, we are interested in conditional variance that we can modelate time-varying variance with \n",
    "#GARCH models"
   ]
  },
  {
   "cell_type": "code",
   "execution_count": 152,
   "metadata": {},
   "outputs": [],
   "source": [
    "bounds = tuple((0, 1.0) for _ in range(n_assets))"
   ]
  },
  {
   "cell_type": "code",
   "execution_count": 153,
   "metadata": {},
   "outputs": [
    {
     "data": {
      "text/plain": [
       "((0, 1.0), (0, 1.0), (0, 1.0), (0, 1.0))"
      ]
     },
     "execution_count": 153,
     "metadata": {},
     "output_type": "execute_result"
    }
   ],
   "source": [
    "bounds"
   ]
  },
  {
   "cell_type": "code",
   "execution_count": 15,
   "metadata": {},
   "outputs": [
    {
     "data": {
      "text/plain": [
       "array([1.78676516e-16, 2.94626776e-01, 7.05373224e-01, 2.58443498e-16])"
      ]
     },
     "execution_count": 15,
     "metadata": {},
     "output_type": "execute_result"
    }
   ],
   "source": [
    "optimal_w"
   ]
  },
  {
   "cell_type": "code",
   "execution_count": null,
   "metadata": {},
   "outputs": [],
   "source": []
  }
 ],
 "metadata": {
  "kernelspec": {
   "display_name": "Python 3",
   "language": "python",
   "name": "python3"
  },
  "language_info": {
   "codemirror_mode": {
    "name": "ipython",
    "version": 3
   },
   "file_extension": ".py",
   "mimetype": "text/x-python",
   "name": "python",
   "nbconvert_exporter": "python",
   "pygments_lexer": "ipython3",
   "version": "3.7.3"
  }
 },
 "nbformat": 4,
 "nbformat_minor": 2
}
