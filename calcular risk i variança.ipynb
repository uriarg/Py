{
 "cells": [
  {
   "cell_type": "code",
   "execution_count": 5,
   "metadata": {},
   "outputs": [
    {
     "name": "stdout",
     "output_type": "stream",
     "text": [
      "[*********************100%***********************]  1 of 1 completed\n",
      "[*********************100%***********************]  1 of 1 completed\n",
      "[*********************100%***********************]  1 of 1 completed\n",
      "[*********************100%***********************]  1 of 1 completed\n",
      "[*********************100%***********************]  1 of 1 completed\n",
      "Variance of Portfolio is 3.6799999999999997%, Portfolio Risk is 19.17%\n"
     ]
    }
   ],
   "source": [
    "import yfinance as yf\n",
    "import pandas as pd\n",
    "import numpy as np\n",
    "\n",
    "assets =  ['AAPL', 'GM', 'GE', 'FB', 'WMT'] \n",
    "\n",
    "df = pd.DataFrame()  \n",
    "\n",
    "for stock in assets:\n",
    "    df[stock] = yf.download(stock, data_source='yahoo',\n",
    "                               start='2015-1-1' , end='2020-1-1')['Adj Close']\n",
    "\n",
    "d_returns = df.pct_change()  \n",
    "\n",
    "cov_matrix_d = d_returns.cov()\n",
    "cov_matrix_a = cov_matrix_d * 250\n",
    "\n",
    "weights = np.array([0.6, 0.1, 0.1, 0.1, 0.1])  # assign equal weights\n",
    "\n",
    "# calculate the variance and risk of the portfolo\n",
    "port_variance = np.dot(weights.T, np.dot(cov_matrix_a, weights))\n",
    "port_volatility = np.sqrt(np.dot(weights.T, np.dot(cov_matrix_a, weights)))\n",
    "\n",
    "percent_var = str(round(port_variance, 4) * 100) + '%'\n",
    "percent_vols = str(round(port_volatility, 4) * 100) + '%'\n",
    "\n",
    "print('Variance of Portfolio is {}, Portfolio Risk is {}'\n",
    "      .format(percent_var, percent_vols))\n",
    "\n"
   ]
  },
  {
   "cell_type": "code",
   "execution_count": null,
   "metadata": {},
   "outputs": [],
   "source": []
  }
 ],
 "metadata": {
  "kernelspec": {
   "display_name": "Python 3",
   "language": "python",
   "name": "python3"
  },
  "language_info": {
   "codemirror_mode": {
    "name": "ipython",
    "version": 3
   },
   "file_extension": ".py",
   "mimetype": "text/x-python",
   "name": "python",
   "nbconvert_exporter": "python",
   "pygments_lexer": "ipython3",
   "version": "3.7.3"
  }
 },
 "nbformat": 4,
 "nbformat_minor": 2
}
