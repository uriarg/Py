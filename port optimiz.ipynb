{
 "cells": [
  {
   "cell_type": "code",
   "execution_count": null,
   "metadata": {},
   "outputs": [],
   "source": [
    "# The aim of this code is to compare an equally weighted portfolio and optimize the weights to obtain \n",
    "# the best allocation of the portfolio maximizing returns for the minimum volatility. "
   ]
  },
  {
   "cell_type": "code",
   "execution_count": 1,
   "metadata": {},
   "outputs": [],
   "source": [
    "import pandas as pd\n",
    "pd.core.common.is_list_like = pd.api.types.is_list_like\n",
    "import matplotlib.pyplot as plt\n",
    "import numpy as np\n",
    "import yfinance as yf\n"
   ]
  },
  {
   "cell_type": "code",
   "execution_count": 2,
   "metadata": {},
   "outputs": [],
   "source": [
    "assets = ['AAPL', 'GM', 'GE', 'FB', 'WMT'] "
   ]
  },
  {
   "cell_type": "code",
   "execution_count": 3,
   "metadata": {},
   "outputs": [],
   "source": [
    "start_date = \"2015-01-01\"\n",
    "end_date = \"2020-01-10\""
   ]
  },
  {
   "cell_type": "code",
   "execution_count": 30,
   "metadata": {},
   "outputs": [
    {
     "name": "stdout",
     "output_type": "stream",
     "text": [
      "[*********************100%***********************]  5 of 5 completed\n"
     ]
    }
   ],
   "source": [
    "df1= yf.download(assets, start=start_date, end = end_date)['Adj Close']"
   ]
  },
  {
   "cell_type": "code",
   "execution_count": 4,
   "metadata": {},
   "outputs": [
    {
     "name": "stdout",
     "output_type": "stream",
     "text": [
      "[*********************100%***********************]  1 of 1 completed\n",
      "[*********************100%***********************]  1 of 1 completed\n",
      "[*********************100%***********************]  1 of 1 completed\n",
      "[*********************100%***********************]  1 of 1 completed\n",
      "[*********************100%***********************]  1 of 1 completed\n"
     ]
    },
    {
     "data": {
      "text/html": [
       "<div>\n",
       "<style scoped>\n",
       "    .dataframe tbody tr th:only-of-type {\n",
       "        vertical-align: middle;\n",
       "    }\n",
       "\n",
       "    .dataframe tbody tr th {\n",
       "        vertical-align: top;\n",
       "    }\n",
       "\n",
       "    .dataframe thead th {\n",
       "        text-align: right;\n",
       "    }\n",
       "</style>\n",
       "<table border=\"1\" class=\"dataframe\">\n",
       "  <thead>\n",
       "    <tr style=\"text-align: right;\">\n",
       "      <th></th>\n",
       "      <th>WMT</th>\n",
       "      <th>FB</th>\n",
       "      <th>GE</th>\n",
       "      <th>GM</th>\n",
       "      <th>AAPL</th>\n",
       "    </tr>\n",
       "    <tr>\n",
       "      <th>Date</th>\n",
       "      <th></th>\n",
       "      <th></th>\n",
       "      <th></th>\n",
       "      <th></th>\n",
       "      <th></th>\n",
       "    </tr>\n",
       "  </thead>\n",
       "  <tbody>\n",
       "    <tr>\n",
       "      <th>2014-12-31</th>\n",
       "      <td>75.782684</td>\n",
       "      <td>78.019997</td>\n",
       "      <td>20.899740</td>\n",
       "      <td>27.987682</td>\n",
       "      <td>101.419060</td>\n",
       "    </tr>\n",
       "    <tr>\n",
       "      <th>2015-01-02</th>\n",
       "      <td>75.800331</td>\n",
       "      <td>78.449997</td>\n",
       "      <td>20.726057</td>\n",
       "      <td>27.931570</td>\n",
       "      <td>100.454300</td>\n",
       "    </tr>\n",
       "    <tr>\n",
       "      <th>2015-01-05</th>\n",
       "      <td>75.579727</td>\n",
       "      <td>77.190002</td>\n",
       "      <td>20.345612</td>\n",
       "      <td>27.522697</td>\n",
       "      <td>97.624336</td>\n",
       "    </tr>\n",
       "    <tr>\n",
       "      <th>2015-01-06</th>\n",
       "      <td>76.162109</td>\n",
       "      <td>76.150002</td>\n",
       "      <td>19.907272</td>\n",
       "      <td>27.939589</td>\n",
       "      <td>97.633545</td>\n",
       "    </tr>\n",
       "    <tr>\n",
       "      <th>2015-01-07</th>\n",
       "      <td>78.182854</td>\n",
       "      <td>76.150002</td>\n",
       "      <td>19.915545</td>\n",
       "      <td>28.733286</td>\n",
       "      <td>99.002556</td>\n",
       "    </tr>\n",
       "  </tbody>\n",
       "</table>\n",
       "</div>"
      ],
      "text/plain": [
       "                  WMT         FB         GE         GM        AAPL\n",
       "Date                                                              \n",
       "2014-12-31  75.782684  78.019997  20.899740  27.987682  101.419060\n",
       "2015-01-02  75.800331  78.449997  20.726057  27.931570  100.454300\n",
       "2015-01-05  75.579727  77.190002  20.345612  27.522697   97.624336\n",
       "2015-01-06  76.162109  76.150002  19.907272  27.939589   97.633545\n",
       "2015-01-07  78.182854  76.150002  19.915545  28.733286   99.002556"
      ]
     },
     "execution_count": 4,
     "metadata": {},
     "output_type": "execute_result"
    }
   ],
   "source": [
    "df=pd.DataFrame()\n",
    "for asset in assets:\n",
    "    df_asset = yf.download(asset, start=start_date, end=end_date)[\"Adj Close\"]\n",
    "    df_asset = df_asset.to_frame(name=asset)\n",
    "    df = pd.concat([df_asset, df], axis=1, sort=False)\n",
    "df = df.dropna()\n",
    "df.head(5)"
   ]
  },
  {
   "cell_type": "code",
   "execution_count": null,
   "metadata": {},
   "outputs": [],
   "source": [
    "df.tail()"
   ]
  },
  {
   "cell_type": "code",
   "execution_count": null,
   "metadata": {},
   "outputs": [],
   "source": [
    "df1.head()"
   ]
  },
  {
   "cell_type": "code",
   "execution_count": null,
   "metadata": {},
   "outputs": [],
   "source": [
    "df.var()"
   ]
  },
  {
   "cell_type": "code",
   "execution_count": null,
   "metadata": {},
   "outputs": [],
   "source": [
    "df.std() # Standard deviation before percentatge changes, why it changes? "
   ]
  },
  {
   "cell_type": "code",
   "execution_count": null,
   "metadata": {},
   "outputs": [],
   "source": [
    "df.info()"
   ]
  },
  {
   "cell_type": "code",
   "execution_count": null,
   "metadata": {},
   "outputs": [],
   "source": [
    "normalized_df1 = df1.div(df1.iloc[0]).mul(100) #here I normalize the prices to compare performance graphically\n",
    "normalized_df1"
   ]
  },
  {
   "cell_type": "code",
   "execution_count": null,
   "metadata": {},
   "outputs": [],
   "source": [
    "normalized_df1.std() # Why is different with the prices volatility?"
   ]
  },
  {
   "cell_type": "code",
   "execution_count": null,
   "metadata": {},
   "outputs": [],
   "source": [
    "# Here I inspect & compare graphically the ETF's evolution\n",
    "plt.style.use('seaborn')\n",
    "normalized_df1.plot(figsize = (15, 8 ), fontsize = 13)\n",
    "plt.legend(fontsize = 13)\n",
    "plt.show()"
   ]
  },
  {
   "cell_type": "code",
   "execution_count": 32,
   "metadata": {},
   "outputs": [],
   "source": [
    "df = df.pct_change().dropna() \n",
    "\n",
    "#Creamos matriz de pesos para cada activo (\"Equally weighted\")\n",
    "\n",
    "weights = [0.6 , 0.1 , 0.1 , 0.1 , 0.1]   #empty list\n",
    "\n",
    "n_assets = len(assets) \n",
    "\n",
    "#Equally weighted portfolio\n",
    "#for i in range(n_assets):\n",
    "    #weights.append(1/n_assets)\n",
    "\n",
    "w = np.array(weights)"
   ]
  },
  {
   "cell_type": "code",
   "execution_count": 33,
   "metadata": {},
   "outputs": [
    {
     "data": {
      "text/plain": [
       "array([0.6, 0.1, 0.1, 0.1, 0.1])"
      ]
     },
     "execution_count": 33,
     "metadata": {},
     "output_type": "execute_result"
    }
   ],
   "source": [
    "w"
   ]
  },
  {
   "cell_type": "code",
   "execution_count": 34,
   "metadata": {},
   "outputs": [
    {
     "data": {
      "text/html": [
       "<div>\n",
       "<style scoped>\n",
       "    .dataframe tbody tr th:only-of-type {\n",
       "        vertical-align: middle;\n",
       "    }\n",
       "\n",
       "    .dataframe tbody tr th {\n",
       "        vertical-align: top;\n",
       "    }\n",
       "\n",
       "    .dataframe thead th {\n",
       "        text-align: right;\n",
       "    }\n",
       "</style>\n",
       "<table border=\"1\" class=\"dataframe\">\n",
       "  <thead>\n",
       "    <tr style=\"text-align: right;\">\n",
       "      <th></th>\n",
       "      <th>WMT</th>\n",
       "      <th>FB</th>\n",
       "      <th>GE</th>\n",
       "      <th>GM</th>\n",
       "      <th>AAPL</th>\n",
       "    </tr>\n",
       "    <tr>\n",
       "      <th>Date</th>\n",
       "      <th></th>\n",
       "      <th></th>\n",
       "      <th></th>\n",
       "      <th></th>\n",
       "      <th></th>\n",
       "    </tr>\n",
       "  </thead>\n",
       "  <tbody>\n",
       "    <tr>\n",
       "      <th>2015-01-02</th>\n",
       "      <td>0.000233</td>\n",
       "      <td>0.005511</td>\n",
       "      <td>-0.008310</td>\n",
       "      <td>-0.002005</td>\n",
       "      <td>-0.009513</td>\n",
       "    </tr>\n",
       "    <tr>\n",
       "      <th>2015-01-05</th>\n",
       "      <td>-0.002910</td>\n",
       "      <td>-0.016061</td>\n",
       "      <td>-0.018356</td>\n",
       "      <td>-0.014638</td>\n",
       "      <td>-0.028172</td>\n",
       "    </tr>\n",
       "    <tr>\n",
       "      <th>2015-01-06</th>\n",
       "      <td>0.007706</td>\n",
       "      <td>-0.013473</td>\n",
       "      <td>-0.021545</td>\n",
       "      <td>0.015147</td>\n",
       "      <td>0.000094</td>\n",
       "    </tr>\n",
       "    <tr>\n",
       "      <th>2015-01-07</th>\n",
       "      <td>0.026532</td>\n",
       "      <td>0.000000</td>\n",
       "      <td>0.000416</td>\n",
       "      <td>0.028408</td>\n",
       "      <td>0.014022</td>\n",
       "    </tr>\n",
       "    <tr>\n",
       "      <th>2015-01-08</th>\n",
       "      <td>0.021106</td>\n",
       "      <td>0.026658</td>\n",
       "      <td>0.012043</td>\n",
       "      <td>0.010044</td>\n",
       "      <td>0.038422</td>\n",
       "    </tr>\n",
       "  </tbody>\n",
       "</table>\n",
       "</div>"
      ],
      "text/plain": [
       "                 WMT        FB        GE        GM      AAPL\n",
       "Date                                                        \n",
       "2015-01-02  0.000233  0.005511 -0.008310 -0.002005 -0.009513\n",
       "2015-01-05 -0.002910 -0.016061 -0.018356 -0.014638 -0.028172\n",
       "2015-01-06  0.007706 -0.013473 -0.021545  0.015147  0.000094\n",
       "2015-01-07  0.026532  0.000000  0.000416  0.028408  0.014022\n",
       "2015-01-08  0.021106  0.026658  0.012043  0.010044  0.038422"
      ]
     },
     "execution_count": 34,
     "metadata": {},
     "output_type": "execute_result"
    }
   ],
   "source": [
    "df.head()"
   ]
  },
  {
   "cell_type": "code",
   "execution_count": 35,
   "metadata": {},
   "outputs": [
    {
     "name": "stdout",
     "output_type": "stream",
     "text": [
      "Rendimiento esperado: [ 0.00042175  0.00097294 -0.00026797  0.00030973  0.00100586]\n",
      "Pesos activos: [0.6 0.1 0.1 0.1 0.1]\n",
      "Matriz VarCov: [[1.51614556e-04 3.44783874e-05 3.47084707e-05 3.98031827e-05\n",
      "  4.50514617e-05]\n",
      " [3.44783874e-05 3.15105000e-04 7.81661293e-05 8.87496057e-05\n",
      "  1.28060900e-04]\n",
      " [3.47084707e-05 7.81661293e-05 3.55275958e-04 1.00442237e-04\n",
      "  8.15190524e-05]\n",
      " [3.98031827e-05 8.87496057e-05 1.00442237e-04 2.63541456e-04\n",
      "  8.48716806e-05]\n",
      " [4.50514617e-05 1.28060900e-04 8.15190524e-05 8.48716806e-05\n",
      "  2.44567994e-04]]\n"
     ]
    }
   ],
   "source": [
    "r = np.array(np.mean(df))   \n",
    "C = np.cov(df.transpose()) #Estimate a covariance matrix, given data and weights.\n",
    "\n",
    "#Validamos\n",
    "print(\"Rendimiento esperado:\", r)\n",
    "print(\"Pesos activos:\", w)\n",
    "print(\"Matriz VarCov:\", C)"
   ]
  },
  {
   "cell_type": "code",
   "execution_count": 36,
   "metadata": {},
   "outputs": [],
   "source": [
    "def mu(w,r):\n",
    "    '''Rendimiento portafolio anualizado'''\n",
    "    return sum(w * r * 252) \n",
    "\n",
    "\n",
    "def sigma(w, C):\n",
    "    '''Desv STD portadolio anualizada'''\n",
    "    return np.dot(w,np.dot(C,w.T)) ** (1/2) * 252 ** (1/2)\n",
    "\n",
    "\n",
    "def sharpe(w):\n",
    "    '''Sharpe ratio con rf de 4%'''\n",
    "    rf = .04\n",
    "    return (mu(w,r) - rf) / sigma(w,C)\n",
    "\n",
    "\n",
    "def neg_sharpe(w):\n",
    "    '''Sharpe ratio negativo'''\n",
    "    return -sharpe(w)\n",
    "\n",
    "\n",
    "def random_ports(n):\n",
    "    '''Portafolio aleatorios'''\n",
    "    means, stds = [],[]\n",
    "    for i in range(n):\n",
    "        rand_w = np.random.rand(len(assets))\n",
    "        rand_w = rand_w / sum(rand_w)\n",
    "        means.append(mu(rand_w, r))\n",
    "        stds.append(sigma(rand_w,C))\n",
    "    \n",
    "    return means, stds"
   ]
  },
  {
   "cell_type": "code",
   "execution_count": 37,
   "metadata": {},
   "outputs": [
    {
     "data": {
      "text/plain": [
       "[('Return = ', 0.11468669295852546),\n",
       " ('Desviation = ', 0.15560849512285652),\n",
       " ('Sharpe = ', 0.47996539584524983)]"
      ]
     },
     "execution_count": 37,
     "metadata": {},
     "output_type": "execute_result"
    }
   ],
   "source": [
    "results_equal_portfolio = [('Return = ', mu(w,r)), ('Desviation = ' ,sigma(w,C)), ('Sharpe = ', sharpe(w))]\n",
    "results_equal_portfolio"
   ]
  },
  {
   "cell_type": "code",
   "execution_count": null,
   "metadata": {},
   "outputs": [],
   "source": [
    "# Pero lo interesante, es calcular los pesos que mejor Sharpe ratio puedan lograr con esta \n",
    "# combinación de activos, esto es un problema de optimización que en Excel se resuelve con Solver, \n",
    "# para este caso usaremos scipy. Definiendo que ninguna variable puede ser negativa con un valor \n",
    "# máximo de 1 y que la suma de las variable debe ser igual a 1, así:"
   ]
  },
  {
   "cell_type": "code",
   "execution_count": 38,
   "metadata": {},
   "outputs": [],
   "source": [
    "import scipy.optimize as optimize"
   ]
  },
  {
   "cell_type": "code",
   "execution_count": 39,
   "metadata": {},
   "outputs": [
    {
     "name": "stdout",
     "output_type": "stream",
     "text": [
      "Optimization terminated successfully.    (Exit mode 0)\n",
      "            Current function value: -0.9452548088900838\n",
      "            Iterations: 7\n",
      "            Function evaluations: 49\n",
      "            Gradient evaluations: 7\n",
      "     fun: -0.9452548088900838\n",
      "     jac: array([-0.19803163, -0.19805428,  0.76721625,  0.08057056, -0.1980719 ])\n",
      " message: 'Optimization terminated successfully.'\n",
      "    nfev: 49\n",
      "     nit: 7\n",
      "    njev: 7\n",
      "  status: 0\n",
      " success: True\n",
      "       x: array([1.35707886e-01, 3.13296477e-01, 7.88214979e-17, 0.00000000e+00,\n",
      "       5.50995637e-01])\n"
     ]
    }
   ],
   "source": [
    "def apply_sum_constraint(inputs):\n",
    "    total = 1 - np.sum(inputs)\n",
    "    return total\n",
    "\n",
    "my_constraints = ({'type': 'eq', \"fun\": apply_sum_constraint })\n",
    "bounds = ((0,1.0),)*n_assets\n",
    "\n",
    "\n",
    "result = optimize.minimize(neg_sharpe, \n",
    "                      w, \n",
    "                      method='SLSQP', #difeferent methods avaiable\n",
    "                      bounds= bounds,#((0, 1.0), (0, 1.0), (0, 1.0),(0,1.0)), #define the min and max weight for each asset\n",
    "                      options={'disp': True},\n",
    "                      constraints=my_constraints)\n",
    "print(result)\n",
    "optimal_w = result[\"x\"]"
   ]
  },
  {
   "cell_type": "code",
   "execution_count": 40,
   "metadata": {},
   "outputs": [
    {
     "data": {
      "text/plain": [
       "Text(0.5, 1.0, 'Mean and standard deviation of returns of randomly generated portfolios')"
      ]
     },
     "execution_count": 40,
     "metadata": {},
     "output_type": "execute_result"
    },
    {
     "data": {
      "image/png": "[encoded data removed]",
      "text/plain": [
       "<Figure size 432x288 with 1 Axes>"
      ]
     },
     "metadata": {
      "needs_background": "light"
     },
     "output_type": "display_data"
    }
   ],
   "source": [
    "#Grafiquemos\n",
    "n_portfolios = 10000\n",
    "means, stds = random_ports(n_portfolios)\n",
    "\n",
    "best_mu = mu(optimal_w, r)\n",
    "best_sigma = sigma(optimal_w, C)\n",
    "best_sharpe = sharpe(optimal_w)\n",
    "plt.plot(stds, means, 'o',color='g', markersize=1)\n",
    "plt.plot(best_sigma, best_mu, 'o', color='red' , markersize=10)\n",
    "plt.xlabel('std')\n",
    "plt.ylabel('mean')\n",
    "plt.title('Mean and standard deviation of returns of randomly generated portfolios')\n"
   ]
  },
  {
   "cell_type": "code",
   "execution_count": 41,
   "metadata": {},
   "outputs": [
    {
     "data": {
      "text/plain": [
       "[('Return = ', 0.230901833061297),\n",
       " ('Desviation = ', 0.20195806597953572),\n",
       " ('Sharpe = ', 0.9452548088900838)]"
      ]
     },
     "execution_count": 41,
     "metadata": {},
     "output_type": "execute_result"
    }
   ],
   "source": [
    "results_best_portfolio = [('Return = ', mu(optimal_w,r)), ('Desviation = ' ,sigma(optimal_w,C)), ('Sharpe = ', sharpe(optimal_w))]\n",
    "results_best_portfolio"
   ]
  },
  {
   "cell_type": "code",
   "execution_count": null,
   "metadata": {},
   "outputs": [],
   "source": [
    "#A good way to estimate future returns is to fit an ARMA model \n",
    "# conditional mean return are time varying while unconditional are the average statit return\n",
    "# at the same time, we are interested in conditional variance that we can modelate time-varying variance with \n",
    "#GARCH models"
   ]
  },
  {
   "cell_type": "code",
   "execution_count": null,
   "metadata": {},
   "outputs": [],
   "source": []
  },
  {
   "cell_type": "code",
   "execution_count": null,
   "metadata": {},
   "outputs": [],
   "source": []
  },
  {
   "cell_type": "code",
   "execution_count": null,
   "metadata": {},
   "outputs": [],
   "source": []
  }
 ],
 "metadata": {
  "kernelspec": {
   "display_name": "Python 3",
   "language": "python",
   "name": "python3"
  },
  "language_info": {
   "codemirror_mode": {
    "name": "ipython",
    "version": 3
   },
   "file_extension": ".py",
   "mimetype": "text/x-python",
   "name": "python",
   "nbconvert_exporter": "python",
   "pygments_lexer": "ipython3",
   "version": "3.7.3"
  }
 },
 "nbformat": 4,
 "nbformat_minor": 2
}
